{
  "nbformat": 4,
  "nbformat_minor": 0,
  "metadata": {
    "colab": {
      "provenance": [],
      "authorship_tag": "ABX9TyMxU9srQTxXXPf2AFHA9YBE",
      "include_colab_link": true
    },
    "kernelspec": {
      "name": "python3",
      "display_name": "Python 3"
    },
    "language_info": {
      "name": "python"
    }
  },
  "cells": [
    {
      "cell_type": "markdown",
      "metadata": {
        "id": "view-in-github",
        "colab_type": "text"
      },
      "source": [
        "<a href=\"https://colab.research.google.com/github/Khunsha877/Colab01/blob/main/Untitled3.ipynb\" target=\"_parent\"><img src=\"https://colab.research.google.com/assets/colab-badge.svg\" alt=\"Open In Colab\"/></a>"
      ]
    },
    {
      "cell_type": "code",
      "execution_count": null,
      "metadata": {
        "id": "wsTcqH2gEgx4"
      },
      "outputs": [],
      "source": [
        "print(\"hello world!\")"
      ]
    },
    {
      "cell_type": "code",
      "source": [
        "# prompt: write a function to display a list of fruits\n",
        "\n",
        "def display_fruits(fruits):\n",
        "  \"\"\"Displays a list of fruits.\n",
        "\n",
        "  Args:\n",
        "    fruits: A list of strings representing fruits.\n",
        "  \"\"\"\n",
        "  for fruit in fruits:\n",
        "    print(fruit)\n",
        "\n",
        "# Example usage:\n",
        "fruit_list = [\"apple\", \"banana\", \"orange\"]\n",
        "display_fruits(fruit_list)\n"
      ],
      "metadata": {
        "id": "-ZSBpcnmErHx"
      },
      "execution_count": null,
      "outputs": []
    }
  ]
}